{
 "cells": [
  {
   "cell_type": "code",
   "execution_count": 2,
   "metadata": {},
   "outputs": [],
   "source": [
    "import numpy as np"
   ]
  },
  {
   "cell_type": "markdown",
   "metadata": {},
   "source": [
    "1. Известно, что генеральная совокупность распределена нормально со средним квадратическим отклонением, равным 16. Найти доверительный интервал для оценки математического ожидания с надежностью 0.95,если выборочная средняя M = 80, а объем выборки n = 256."
   ]
  },
  {
   "cell_type": "markdown",
   "metadata": {},
   "source": [
    "$\\overline{X}$ = 80;       $\\sigma$ = 16;        $n$ = 256;      $Z_{\\alpha/2}$ = 1.96\n",
    "\n",
    "$$\\overline{X} \\pm Z_{\\alpha/2} * \\frac{\\sigma}{\\sqrt n}$$\n",
    "\n",
    "отсюда получаем доверительный интервал:$$80 \\pm 1.96 * \\frac{16}{\\sqrt 256}=80 \\pm 1.96 * \\frac{16}{16}=[78.04; 81.96]$$"
   ]
  },
  {
   "cell_type": "code",
   "execution_count": null,
   "metadata": {},
   "outputs": [],
   "source": []
  },
  {
   "cell_type": "markdown",
   "metadata": {},
   "source": [
    "2. В результате 10 независимых измерений некоторой величины X, выполненных с одинаковой точностью, получены опытные данные:6.9, 6.1, 6.2, 6.8, 7.5, 6.3, 6.4, 6.9, 6.7, 6.1 Предполагая, что результаты измерений подчинены нормальному закону распределения вероятностей, оценить истинное значение величины X при помощи доверительного интервала, покрывающего это значение с доверительной вероятностью 0,95."
   ]
  },
  {
   "cell_type": "markdown",
   "metadata": {},
   "source": [
    "Из полученных опытных данных находим $\\overline{X}$ и $\\sigma$"
   ]
  },
  {
   "cell_type": "code",
   "execution_count": 10,
   "metadata": {},
   "outputs": [
    {
     "name": "stdout",
     "output_type": "stream",
     "text": [
      "X =  6.59;  std =  0.45\n"
     ]
    }
   ],
   "source": [
    "z = [6.9, 6.1, 6.2, 6.8, 7.5, 6.3, 6.4, 6.9, 6.7, 6.1]\n",
    "mean = sum(z)/len(z)\n",
    "std = np.sqrt(sum((x - mean)**2 for x in z) / (len(z)-1))\n",
    "print(f'X = {mean: .2f};  std = {std: .2f}')"
   ]
  },
  {
   "cell_type": "markdown",
   "metadata": {},
   "source": [
    "$\\overline{X}$ = 6.59;       $\\sigma$ = 0.45;        $n$ = 10; по таблице находим $t_{\\alpha/2}$ = 2.262\n",
    "\n",
    "$$\\overline{X} \\pm t_{\\alpha/2} * \\frac{\\sigma}{\\sqrt n}$$\n",
    "\n",
    "отсюда получаем доверительный интервал:$$6.59 \\pm 2.262 * \\frac{0.45}{\\sqrt 10}=6.59 \\pm 0.32=[6.27; 6.91]$$"
   ]
  },
  {
   "cell_type": "code",
   "execution_count": null,
   "metadata": {},
   "outputs": [],
   "source": []
  },
  {
   "cell_type": "markdown",
   "metadata": {},
   "source": [
    "3. Утверждается, что шарики для подшипников, изготовленные автоматическим станком, имеют средний диаметр 17 мм. Используя односторонний критерий с =0,05, проверить эту гипотезу, если в выборке из n=100 шариков средний диаметр оказался равным 17.5 мм, а дисперсия известна и равна 4 кв.мм."
   ]
  },
  {
   "cell_type": "markdown",
   "metadata": {},
   "source": [
    "H0: диаметр = 17 мм, $\\mu = \\mu 0$\n",
    "\n",
    "H1: диаметр = 17.5 мм, $\\mu > \\mu 0$\n",
    "\n",
    "$\\sigma^2 = D = 4; \\sigma = 2$\n",
    "\n",
    "по даблице находим $Z_T = 1.645$ $$Z_H = \\frac {\\overline{X} - \\mu 0} {\\sigma / \\sqrt n} = \\frac{17.5-17}{2/\\sqrt 100} = \\frac{0.5}{0.2} = 2.5$$\n",
    "\n",
    "получили, что $Z_T = 1.645 < Z_H = 2.5$ Верна Н1"
   ]
  },
  {
   "cell_type": "code",
   "execution_count": null,
   "metadata": {},
   "outputs": [],
   "source": []
  },
  {
   "cell_type": "markdown",
   "metadata": {},
   "source": [
    "4. Продавец утверждает, что средний вес пачки печенья составляет 200 г. Из партии извлечена выборка из 10 пачек. Вес каждой пачки составляет: 202, 203, 199, 197, 195, 201, 200, 204, 194, 190. Известно, что их веса распределены нормально. Верно ли утверждение продавца, если учитывать, что доверительная вероятность равна 99%?"
   ]
  },
  {
   "cell_type": "code",
   "execution_count": 11,
   "metadata": {},
   "outputs": [
    {
     "name": "stdout",
     "output_type": "stream",
     "text": [
      "X =  198.50;  std =  4.45\n"
     ]
    }
   ],
   "source": [
    "z = [202, 203, 199, 197, 195, 201, 200, 204, 194, 190]\n",
    "mean = sum(z)/len(z)\n",
    "std = np.sqrt(sum((x - mean)**2 for x in z) / (len(z)-1))\n",
    "print(f'X = {mean: .2f};  std = {std: .2f}')"
   ]
  },
  {
   "cell_type": "markdown",
   "metadata": {},
   "source": [
    "H0: вес пачки печенья = 200 г, $\\mu = \\mu 0$\n",
    "\n",
    "H1: вес пачки печенья = 198.5 г, $\\mu < \\mu 0$\n",
    "\n",
    "$\\sigma = 4.45$\n",
    "\n",
    "Т.к. достоверная вероятность равна 99%, значит $\\alpha$ = 1%, по даблице находим $Z_T = -2.33$\n",
    "$$Z_H = \\frac {\\overline{X} - \\mu 0} {\\sigma / \\sqrt n} = \\frac{198.5-200}{4.45/\\sqrt 10} = -\\frac{1.5}{1.41} = -1.1$$\n",
    "\n",
    "получили, что $Z_T = -2.33 < Z_H = -1.1$ Верна Н0"
   ]
  },
  {
   "cell_type": "code",
   "execution_count": null,
   "metadata": {},
   "outputs": [],
   "source": []
  }
 ],
 "metadata": {
  "kernelspec": {
   "display_name": "Python 3",
   "language": "python",
   "name": "python3"
  },
  "language_info": {
   "codemirror_mode": {
    "name": "ipython",
    "version": 3
   },
   "file_extension": ".py",
   "mimetype": "text/x-python",
   "name": "python",
   "nbconvert_exporter": "python",
   "pygments_lexer": "ipython3",
   "version": "3.8.5"
  }
 },
 "nbformat": 4,
 "nbformat_minor": 4
}
