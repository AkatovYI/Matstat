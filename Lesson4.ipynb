{
 "cells": [
  {
   "cell_type": "code",
   "execution_count": 19,
   "metadata": {},
   "outputs": [],
   "source": [
    "import numpy as np"
   ]
  },
  {
   "cell_type": "code",
   "execution_count": 22,
   "metadata": {},
   "outputs": [],
   "source": [
    "def Pl(x, a, c):\n",
    "    return (1/(c*np.sqrt(2*np.pi)))*np.exp(-((x-a)**2/(2*c**2)))"
   ]
  },
  {
   "cell_type": "markdown",
   "metadata": {},
   "source": [
    "1. Случайная непрерывная величина A имеет равномерное распределение на промежутке [200, 800].\n",
    "Найдите ее среднее значение и дисперсию."
   ]
  },
  {
   "cell_type": "code",
   "execution_count": 10,
   "metadata": {},
   "outputs": [
    {
     "name": "stdout",
     "output_type": "stream",
     "text": [
      "Mx = 500.0; Dx = 30000.0\n"
     ]
    }
   ],
   "source": [
    "a=200\n",
    "b=800\n",
    "Mx=(a+b)/2\n",
    "Dx=(b-a)**2/12\n",
    "print(f'Mx = {Mx}; Dx = {Dx}')"
   ]
  },
  {
   "cell_type": "code",
   "execution_count": null,
   "metadata": {},
   "outputs": [],
   "source": []
  },
  {
   "cell_type": "markdown",
   "metadata": {},
   "source": [
    "2. О случайной непрерывной равномерно распределенной величине B известно, что ее дисперсия равна 0.2.\n",
    "Можно ли найти правую границу величины B и ее среднее значение зная, что левая граница равна 0.5?\n",
    "Если да, найдите ее."
   ]
  },
  {
   "cell_type": "markdown",
   "metadata": {},
   "source": [
    "По формуле дисперсия равна:$$D(X) = \\frac{(b - a)^2}{12}$$\n",
    "имеем:$$0.2 = \\frac{(b - 0.5)^2}{12}$$\n",
    "разворачиваем и получаем квадратное уравнение $$b^2 - b - 2.15 = 0$$\n",
    "получаем корни х1=-1.05; х2=2.05, т.к левая граница равна 0.5 значит правая будет равно 2.05"
   ]
  },
  {
   "cell_type": "code",
   "execution_count": 11,
   "metadata": {},
   "outputs": [
    {
     "name": "stdout",
     "output_type": "stream",
     "text": [
      "границы величины В: a = 0.5 - b = 2.05; Mx = 1.275\n"
     ]
    }
   ],
   "source": [
    "a=0.5\n",
    "b=2.05\n",
    "Dx=0.2\n",
    "Mx=(a+b)/2\n",
    "print(f'границы величины В: a = {a} - b = {b}; Mx = {Mx}')"
   ]
  },
  {
   "cell_type": "code",
   "execution_count": null,
   "metadata": {},
   "outputs": [],
   "source": []
  },
  {
   "cell_type": "markdown",
   "metadata": {},
   "source": [
    "3. Непрерывная случайная величина X распределена нормально и задана плотностью распределения\n",
    "$$f(x) = \\frac{1}{4 * \\sqrt{2 \\pi}} e ^ {- \\frac{(x + 2)^2}{32}},$$\n",
    "Найдите:\n",
    "а). M(X)\n",
    "б). D(X)\n",
    "в). std(X) (среднее квадратичное отклонение)"
   ]
  },
  {
   "cell_type": "markdown",
   "metadata": {},
   "source": [
    "Плотность распределения расчитывается по формуле:$$f(x) = \\frac{1}{\\sigma \\sqrt{2 \\pi}} e ^ {- \\frac{(x - a)^2}{2 \\sigma^2}},$$\n",
    "Получаем: $$Mx = a = -2;   Dx = \\sigma^2 = 4^2 = 16;   std(X) = \\sigma = 4$$"
   ]
  },
  {
   "cell_type": "code",
   "execution_count": null,
   "metadata": {},
   "outputs": [],
   "source": []
  },
  {
   "cell_type": "markdown",
   "metadata": {},
   "source": [
    "4. Рост взрослого населения города X имеет нормальное распределение.\n",
    "Причем, средний рост равен 174 см, а среднее квадратичное отклонение равно 8 см.\n",
    "Какова вероятность того, что случайным образом выбранный взрослый человек имеет рост:\n",
    "\n",
    "а). больше 182 см\n",
    "\n",
    "б). больше 190 см\n",
    "\n",
    "в). от 166 см до 190 см\n",
    "\n",
    "г). от 166 см до 182 см\n",
    "\n",
    "д). от 158 см до 190 см\n",
    "\n",
    "е). не выше 150 см или не ниже 190 см\n",
    "\n",
    "ё). не выше 150 см или не ниже 198 см\n",
    "\n",
    "ж). ниже 166 см."
   ]
  },
  {
   "cell_type": "markdown",
   "metadata": {},
   "source": [
    "Примем $$std(X) = \\sigma = 8$$ за 1 и получим:"
   ]
  },
  {
   "cell_type": "markdown",
   "metadata": {},
   "source": [
    "$$а) Р(Х > 1) = 1-0.8413 = 0.1587$$\n",
    "\n",
    "$$б) Р(Х > 2) = 1-0.9772 = 0.0228$$\n",
    "\n",
    "$$в) Р(-1 <= X <= 2) = 0.9772-0.1587 = 0.8185$$\n",
    "\n",
    "$$г) Р(-1 <= X <= 1) = 0.8413-0.1587 = 0.6826$$\n",
    "\n",
    "$$д) P(-2 <= X <= 2) = 0.9772-0.0228 = 0.9544$$\n",
    "\n",
    "$$е) P(X <= -3 или X >= 2) = 0.0014+1-0.9772 = 0.0242$$\n",
    "\n",
    "$$ё) P(X <= -3 или X >= 3) = 0.0014+1-0.9990 = 0.0024$$\n",
    "\n",
    "$$ж) P(X < -1) = 0.1587$$"
   ]
  },
  {
   "cell_type": "code",
   "execution_count": 25,
   "metadata": {},
   "outputs": [
    {
     "data": {
      "text/plain": [
       "0.006748870814148508"
      ]
     },
     "execution_count": 25,
     "metadata": {},
     "output_type": "execute_result"
    }
   ],
   "source": [
    "Pl(190, 174, 8)"
   ]
  },
  {
   "cell_type": "markdown",
   "metadata": {},
   "source": [
    "5. На сколько сигм (средних квадратичных отклонений) отклоняется рост человека, равный 190 см, от\n",
    "математического ожидания роста в популяции, в которой M(X) = 178 см и D(X) = 25 кв.см?"
   ]
  },
  {
   "cell_type": "markdown",
   "metadata": {},
   "source": [
    "$$\\sigma = \\sqrt D(X) = \\sqrt25 = 5$$\n",
    "\n",
    "$$Z = \\frac{190-178}{5} = 2.4$$\n",
    "\n",
    "получилось 2.4 сигмы"
   ]
  },
  {
   "cell_type": "code",
   "execution_count": null,
   "metadata": {},
   "outputs": [],
   "source": []
  }
 ],
 "metadata": {
  "kernelspec": {
   "display_name": "Python 3",
   "language": "python",
   "name": "python3"
  },
  "language_info": {
   "codemirror_mode": {
    "name": "ipython",
    "version": 3
   },
   "file_extension": ".py",
   "mimetype": "text/x-python",
   "name": "python",
   "nbconvert_exporter": "python",
   "pygments_lexer": "ipython3",
   "version": "3.8.5"
  }
 },
 "nbformat": 4,
 "nbformat_minor": 4
}
