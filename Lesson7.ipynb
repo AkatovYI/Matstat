{
 "cells": [
  {
   "cell_type": "code",
   "execution_count": null,
   "metadata": {},
   "outputs": [],
   "source": []
  },
  {
   "cell_type": "code",
   "execution_count": 1,
   "metadata": {},
   "outputs": [],
   "source": [
    "import numpy as np\n",
    "import matplotlib.pyplot as plt"
   ]
  },
  {
   "cell_type": "markdown",
   "metadata": {},
   "source": [
    "1. Даны значения величины заработной платы заемщиков банка (zp) и значения их поведенческого кредитного скоринга (ks): zp = [35, 45, 190, 200, 40, 70, 54, 150, 120, 110], ks = [401, 574, 874, 919, 459, 739, 653, 902, 746, 832]. Используя математические операции, посчитать коэффициенты линейной регрессии, приняв за X заработную плату (то есть, zp - признак), а за y - значения скорингового балла (то есть, ks - целевая переменная). Произвести расчет как с использованием intercept, так и без."
   ]
  },
  {
   "cell_type": "code",
   "execution_count": 3,
   "metadata": {},
   "outputs": [
    {
     "name": "stdout",
     "output_type": "stream",
     "text": [
      "Расчет линейной регрессиии с учетом intercept:\n",
      "Коэффициент a =  444.177; Коэффициент b =  2.621;\n",
      " Линейная модель y_hat = [535.89621821 562.10160703 942.07974498 968.2851338  548.99891262\n",
      " 627.61507909 585.68645697 837.25818968 758.64202321 732.43663439]\n",
      "Среднеквадратичная ошибка mse =  6470.414\n"
     ]
    },
    {
     "data": {
      "image/png": "[encoded data removed]",
      "text/plain": [
       "<Figure size 432x288 with 1 Axes>"
      ]
     },
     "metadata": {
      "needs_background": "light"
     },
     "output_type": "display_data"
    },
    {
     "name": "stdout",
     "output_type": "stream",
     "text": [
      "Расчет линейной регрессиии без учета intercept:\n",
      "Преобразовываем zp в матрицу = [[ 35]\n",
      " [ 45]\n",
      " [190]\n",
      " [200]\n",
      " [ 40]\n",
      " [ 70]\n",
      " [ 54]\n",
      " [150]\n",
      " [120]\n",
      " [110]]\n",
      "Преобразовываем ks в матрицу = [[401]\n",
      " [574]\n",
      " [874]\n",
      " [919]\n",
      " [459]\n",
      " [739]\n",
      " [653]\n",
      " [902]\n",
      " [746]\n",
      " [832]]\n",
      "Дополняем матрицу zp 1 = [[  1.  35.]\n",
      " [  1.  45.]\n",
      " [  1. 190.]\n",
      " [  1. 200.]\n",
      " [  1.  40.]\n",
      " [  1.  70.]\n",
      " [  1.  54.]\n",
      " [  1. 150.]\n",
      " [  1. 120.]\n",
      " [  1. 110.]]\n",
      "Получаем матрицу коэффициентов b = [[444.17735732]\n",
      " [  2.62053888]]\n",
      "Среднеквадратичная ошибка mse =  203763.939\n"
     ]
    },
    {
     "data": {
      "image/png": "[encoded data removed]",
      "text/plain": [
       "<Figure size 432x288 with 1 Axes>"
      ]
     },
     "metadata": {
      "needs_background": "light"
     },
     "output_type": "display_data"
    }
   ],
   "source": [
    "zp = np.array([35, 45, 190, 200, 40, 70, 54, 150, 120, 110])\n",
    "ks = np.array([401, 574, 874, 919, 459, 739, 653, 902, 746, 832])\n",
    "n = 10\n",
    "b = (np.mean(zp * ks) - np.mean(zp) * np.mean(ks)) / (np.mean(zp**2) - np.mean(zp) ** 2)\n",
    "a = np.mean(ks) - b * np.mean(zp)\n",
    "y_hat = a + b * zp\n",
    "mse = ((ks - y_hat)**2).sum()/n\n",
    "print(f'Расчет линейной регрессиии с учетом intercept:')\n",
    "print(f'Коэффициент a = {a: .3f}; Коэффициент b = {b: .3f};\\n Линейная модель y_hat = {y_hat}')\n",
    "print(f'Среднеквадратичная ошибка mse = {mse: .3f}')\n",
    "plt.scatter(zp, ks)\n",
    "plt.plot(zp, y_hat)\n",
    "plt.show()\n",
    "print(f'Расчет линейной регрессиии без учета intercept:')\n",
    "zp2 = zp.reshape(10,1)\n",
    "ks1 = ks.reshape(10,1)\n",
    "zp1 = np.hstack([np.ones((10,1)), zp2])\n",
    "b = np.dot(np.linalg.inv(np.dot(zp1.T, zp1)), zp1.T@ks1)\n",
    "y_hat =b[1] * zp\n",
    "mse = ((ks - y_hat)**2).sum()/n\n",
    "print(f'Преобразовываем zp в матрицу = {zp2}')\n",
    "print(f'Преобразовываем ks в матрицу = {ks1}')\n",
    "print(f'Дополняем матрицу zp 1 = {zp1}')\n",
    "print(f'Получаем матрицу коэффициентов b = {b}')\n",
    "print(f'Среднеквадратичная ошибка mse = {mse: .3f}')\n",
    "plt.scatter(zp, ks)\n",
    "plt.plot(zp, y_hat)\n",
    "plt.show()"
   ]
  },
  {
   "cell_type": "markdown",
   "metadata": {},
   "source": [
    "2. Посчитать коэффициент линейной регрессии при заработной плате (zp), используя градиентный спуск (без intercept)."
   ]
  },
  {
   "cell_type": "code",
   "execution_count": 4,
   "metadata": {},
   "outputs": [
    {
     "name": "stdout",
     "output_type": "stream",
     "text": [
      "Итерация: 0, B1 = 0.25952808, mse = 493237.7212546963\n",
      "Итерация: 100, B1 = 5.54537842245223, mse = 58151.31823171113\n",
      "Итерация: 200, B1 = 5.868748638669329, mse = 56522.97550129376\n",
      "Итерация: 300, B1 = 5.888531320728348, mse = 56516.88130936019\n",
      "Итерация: 400, B1 = 5.8897415574471985, mse = 56516.85850140053\n",
      "Итерация: 500, B1 = 5.889815595583751, mse = 56516.858416040064\n",
      "Итерация: 600, B1 = 5.889820124983314, mse = 56516.85841572062\n",
      "Итерация: 700, B1 = 5.889820402076462, mse = 56516.85841571941\n",
      "Итерация: 800, B1 = 5.88982041902807, mse = 56516.8584157194\n",
      "Итерация: 900, B1 = 5.889820420065112, mse = 56516.85841571941\n",
      "Итерация: 1000, B1 = 5.8898204201285544, mse = 56516.85841571941\n",
      "Итерация: 1100, B1 = 5.889820420132437, mse = 56516.85841571943\n",
      "Итерация: 1200, B1 = 5.889820420132673, mse = 56516.85841571943\n",
      "Итерация: 1300, B1 = 5.889820420132673, mse = 56516.85841571943\n",
      "Итерация: 1400, B1 = 5.889820420132673, mse = 56516.85841571943\n"
     ]
    },
    {
     "data": {
      "image/png": "[encoded data removed]",
      "text/plain": [
       "<Figure size 432x288 with 1 Axes>"
      ]
     },
     "metadata": {
      "needs_background": "light"
     },
     "output_type": "display_data"
    }
   ],
   "source": [
    "def mse_(B1, y=ks, X=zp, n=10):\n",
    "    return np.sum((B1*X-y)**2)/n\n",
    "\n",
    "zp = np.array([35, 45, 190, 200, 40, 70, 54, 150, 120, 110])\n",
    "ks = np.array([401, 574, 874, 919, 459, 739, 653, 902, 746, 832])\n",
    "alpha = 1e-6\n",
    "B1 = 0.1\n",
    "n=10\n",
    "\n",
    "for i in range(1500):\n",
    "    B1 -=alpha*(2/n)*np.sum((B1*zp-ks)*zp)\n",
    "    if i%100==0:\n",
    "        print(f'Итерация: {i}, B1 = {B1}, mse = {mse_(B1)}')\n",
    "        \n",
    "y_hat = B1 * zp\n",
    "plt.scatter(zp, ks)\n",
    "plt.plot(zp, y_hat)\n",
    "plt.show()"
   ]
  },
  {
   "cell_type": "markdown",
   "metadata": {},
   "source": [
    "3. * (необязательная)Произвести вычисления как в пункте 2, но с вычислением intercept. Учесть, что изменение коэффициентов должно производиться на каждом шаге одновременно (то есть изменение одного коэффициента не должно влиять на изменение другого во время одной итерации)."
   ]
  },
  {
   "cell_type": "code",
   "execution_count": 5,
   "metadata": {},
   "outputs": [
    {
     "name": "stdout",
     "output_type": "stream",
     "text": [
      "Итерация: 0, A1 = 683.583852688; B1 = 0.25952808, mse = 493237.7212546963\n",
      "Итерация: 100, A1 = 147.5986279633438; B1 = 5.54537842245223, mse = 58151.31823171113\n",
      "Итерация: 200, A1 = 114.80888803892992; B1 = 5.868748638669329, mse = 56522.97550129376\n",
      "Итерация: 300, A1 = 112.80292407814545; B1 = 5.888531320728348, mse = 56516.88130936019\n",
      "Итерация: 400, A1 = 112.68020607485403; B1 = 5.8897415574471985, mse = 56516.85850140053\n",
      "Итерация: 500, A1 = 112.67269860780766; B1 = 5.889815595583751, mse = 56516.858416040064\n",
      "Итерация: 600, A1 = 112.67223932669197; B1 = 5.889820124983314, mse = 56516.85841572062\n",
      "Итерация: 700, A1 = 112.6722112294467; B1 = 5.889820402076462, mse = 56516.85841571941\n",
      "Итерация: 800, A1 = 112.67220951055367; B1 = 5.88982041902807, mse = 56516.8584157194\n",
      "Итерация: 900, A1 = 112.67220940539755; B1 = 5.889820420065112, mse = 56516.85841571941\n",
      "Итерация: 1000, A1 = 112.67220939896447; B1 = 5.8898204201285544, mse = 56516.85841571941\n",
      "Итерация: 1100, A1 = 112.67220939857089; B1 = 5.889820420132437, mse = 56516.85841571943\n",
      "Итерация: 1200, A1 = 112.6722093985469; B1 = 5.889820420132673, mse = 56516.85841571943\n",
      "Итерация: 1300, A1 = 112.6722093985469; B1 = 5.889820420132673, mse = 56516.85841571943\n",
      "Итерация: 1400, A1 = 112.6722093985469; B1 = 5.889820420132673, mse = 56516.85841571943\n",
      "Среднеквадратичная ошибка mse =  43821.832\n"
     ]
    },
    {
     "data": {
      "image/png": "[encoded data removed]",
      "text/plain": [
       "<Figure size 432x288 with 1 Axes>"
      ]
     },
     "metadata": {
      "needs_background": "light"
     },
     "output_type": "display_data"
    }
   ],
   "source": [
    "def mse_(B1, y=ks, X=zp, n=10):\n",
    "    return np.sum((B1*X-y)**2)/n\n",
    "\n",
    "zp = np.array([35, 45, 190, 200, 40, 70, 54, 150, 120, 110])\n",
    "ks = np.array([401, 574, 874, 919, 459, 739, 653, 902, 746, 832])\n",
    "alpha = 1e-6\n",
    "B1 = 0.1\n",
    "n=10\n",
    "\n",
    "for i in range(1500):\n",
    "    B1 -=alpha*(2/n)*np.sum((B1*zp-ks)*zp)\n",
    "    A1 = ks.sum()/n - B1*(zp.sum()/n)\n",
    "    if i%100==0:\n",
    "        print(f'Итерация: {i}, A1 = {A1}; B1 = {B1}, mse = {mse_(B1)}')\n",
    "\n",
    "y_hat = A1 + B1 * zp\n",
    "mse = ((ks - y_hat)**2).sum()/n\n",
    "print(f'Среднеквадратичная ошибка mse = {mse: .3f}')\n",
    "plt.scatter(zp, ks)\n",
    "plt.plot(zp, y_hat)\n",
    "plt.show()"
   ]
  },
  {
   "cell_type": "code",
   "execution_count": null,
   "metadata": {},
   "outputs": [],
   "source": []
  },
  {
   "cell_type": "code",
   "execution_count": null,
   "metadata": {},
   "outputs": [],
   "source": []
  },
  {
   "cell_type": "code",
   "execution_count": null,
   "metadata": {},
   "outputs": [],
   "source": []
  }
 ],
 "metadata": {
  "kernelspec": {
   "display_name": "Python 3",
   "language": "python",
   "name": "python3"
  },
  "language_info": {
   "codemirror_mode": {
    "name": "ipython",
    "version": 3
   },
   "file_extension": ".py",
   "mimetype": "text/x-python",
   "name": "python",
   "nbconvert_exporter": "python",
   "pygments_lexer": "ipython3",
   "version": "3.7.4"
  }
 },
 "nbformat": 4,
 "nbformat_minor": 4
}
