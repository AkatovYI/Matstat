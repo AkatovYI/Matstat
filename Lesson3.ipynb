{
 "cells": [
  {
   "cell_type": "code",
   "execution_count": 23,
   "metadata": {},
   "outputs": [],
   "source": [
    "from math import factorial\n",
    "import numpy as np"
   ]
  },
  {
   "cell_type": "code",
   "execution_count": 24,
   "metadata": {},
   "outputs": [],
   "source": [
    "def combinations(n, k):\n",
    "    return int(factorial(n) / (factorial(k) * factorial(n - k)))"
   ]
  },
  {
   "cell_type": "markdown",
   "metadata": {},
   "source": [
    "1. Даны значения зарплат из выборки выпускников: 100, 80, 75, 77, 89, 33, 45, 25, 65, 17, 30, 24, 57, 55, 70, 75, 65, 84, 90, 150. Посчитать (желательно без использования статистических методов наподобие std, var, mean) среднее арифметическое, среднее квадратичное отклонение, смещенную и несмещенную оценки дисперсий для данной выборки."
   ]
  },
  {
   "cell_type": "code",
   "execution_count": 46,
   "metadata": {},
   "outputs": [
    {
     "name": "stdout",
     "output_type": "stream",
     "text": [
      "mean = 65.30\n"
     ]
    }
   ],
   "source": [
    "zp = [100, 80, 75, 77, 89, 33, 45, 25, 65, 17, 30, 24, 57, 55, 70, 75, 65, 84, 90, 150]\n",
    "mean = sum(zp)/len(zp)\n",
    "print(f'mean ={mean: .2f}')"
   ]
  },
  {
   "cell_type": "code",
   "execution_count": 45,
   "metadata": {},
   "outputs": [
    {
     "name": "stdout",
     "output_type": "stream",
     "text": [
      "std = 30.82\n"
     ]
    }
   ],
   "source": [
    "std = np.sqrt(sum((x - mean)**2 for x in zp) / len(zp))\n",
    "print(f'std ={std: .2f}')"
   ]
  },
  {
   "cell_type": "code",
   "execution_count": 47,
   "metadata": {},
   "outputs": [
    {
     "name": "stdout",
     "output_type": "stream",
     "text": [
      "var = 950.11\n"
     ]
    }
   ],
   "source": [
    "var = sum((x - mean)**2 for x in zp) / len(zp)\n",
    "print(f'var ={var: .2f}')"
   ]
  },
  {
   "cell_type": "code",
   "execution_count": 44,
   "metadata": {},
   "outputs": [
    {
     "name": "stdout",
     "output_type": "stream",
     "text": [
      "var2 = 1000.12\n"
     ]
    }
   ],
   "source": [
    "var2 = sum((x - mean)**2 for x in zp) / (len(zp) - 1)\n",
    "print(f'var2 ={var2: .2f}')"
   ]
  },
  {
   "cell_type": "markdown",
   "metadata": {},
   "source": [
    "2. В первом ящике находится 8 мячей, из которых 5 - белые. Во втором ящике - 12 мячей, из которых 5 белых. Из первого ящика вытаскивают случайным образом два мяча, из второго - 4. Какова вероятность того, что 3 мяча белые?"
   ]
  },
  {
   "cell_type": "code",
   "execution_count": 40,
   "metadata": {},
   "outputs": [
    {
     "name": "stdout",
     "output_type": "stream",
     "text": [
      "p1 = 0.149; p2 = 0.095; p3 = 0.045;\n",
      "p = 28.90%\n"
     ]
    }
   ],
   "source": [
    "p1=combinations(5, 2)/combinations(8, 2) * combinations(5, 1)/combinations(12, 1)\n",
    "p2=combinations(5, 1)/combinations(8, 1) * combinations(5, 2)/combinations(12, 2)\n",
    "p3=combinations(5, 0)/combinations(8, 0) * combinations(5, 3)/combinations(12, 3)\n",
    "p=p1+p2+p3\n",
    "print(f'p1 ={p1: .3f}; p2 ={p2: .3f}; p3 ={p3: .3f};\\np ={p*100: .2f}%')"
   ]
  },
  {
   "cell_type": "markdown",
   "metadata": {},
   "source": [
    "3. На соревновании по биатлону один из трех спортсменов стреляет и попадает в мишень. Вероятность попадания для первого спортсмена равна 0.9, для второго — 0.8, для третьего — 0.6. Найти вероятность того, что выстрел произведен: a). первым спортсменом б). вторым спортсменом в). третьим спортсменом."
   ]
  },
  {
   "cell_type": "code",
   "execution_count": 41,
   "metadata": {},
   "outputs": [
    {
     "name": "stdout",
     "output_type": "stream",
     "text": [
      "pa = 7.2%; pb = 3.2%; pv = 1.2%\n"
     ]
    }
   ],
   "source": [
    "p1=0.9\n",
    "p2=0.8\n",
    "p3=0.6\n",
    "q1=1-p1\n",
    "q2=1-p2\n",
    "q3=1-p3\n",
    "pa=p1*q2*q3\n",
    "pb=q1*p2*q3\n",
    "pv=q1*q2*p3\n",
    "print(f'pa ={pa*100: .1f}%; pb ={pb*100: .1f}%; pv ={pv*100: .1f}%')"
   ]
  },
  {
   "cell_type": "markdown",
   "metadata": {},
   "source": [
    "4. В университет на факультеты A и B поступило равное количество студентов, а на факультет C студентов поступило столько же, сколько на A и B вместе. Вероятность того, что студент факультета A сдаст первую сессию, равна 0.8. Для студента факультета B эта вероятность равна 0.7, а для студента факультета C - 0.9. Студент сдал первую сессию. Какова вероятность, что он учится: a). на факультете A б). на факультете B в). на факультете C?"
   ]
  },
  {
   "cell_type": "code",
   "execution_count": null,
   "metadata": {},
   "outputs": [],
   "source": []
  },
  {
   "cell_type": "markdown",
   "metadata": {},
   "source": [
    "5. Устройство состоит из трех деталей. Для первой детали вероятность выйти из строя в первый месяц равна 0.1, для второй - 0.2, для третьей - 0.25. Какова вероятность того, что в первый месяц выйдут из строя: а). все детали б). только две детали в). хотя бы одна деталь г). от одной до двух деталей?"
   ]
  },
  {
   "cell_type": "code",
   "execution_count": 42,
   "metadata": {},
   "outputs": [
    {
     "name": "stdout",
     "output_type": "stream",
     "text": [
      "pa = 0.5%; pb = 8.0%; pv = 46.0%; pg = 45.5%\n"
     ]
    }
   ],
   "source": [
    "p1=0.1\n",
    "p2=0.2\n",
    "p3=0.25\n",
    "q1=1-p1\n",
    "q2=1-p2\n",
    "q3=1-p3\n",
    "pa=p1*p2*p3\n",
    "pb=p1*p2*q3+p1*q2*p3+q1*p2*p3\n",
    "pv=p1*q2*q3+q1*p2*q3+q1*q2*p3+p1*p2*q3+p1*q2*p3+q1*p2*p3+p1*p2*p3\n",
    "pg=p1*q2*q3+q1*p2*q3+q1*q2*p3+p1*p2*q3+p1*q2*p3+q1*p2*p3\n",
    "print(f'pa ={pa*100: .1f}%; pb ={pb*100: .1f}%; pv ={pv*100: .1f}%; pg ={pg*100: .1f}%')"
   ]
  },
  {
   "cell_type": "code",
   "execution_count": null,
   "metadata": {},
   "outputs": [],
   "source": []
  }
 ],
 "metadata": {
  "kernelspec": {
   "display_name": "Python 3",
   "language": "python",
   "name": "python3"
  },
  "language_info": {
   "codemirror_mode": {
    "name": "ipython",
    "version": 3
   },
   "file_extension": ".py",
   "mimetype": "text/x-python",
   "name": "python",
   "nbconvert_exporter": "python",
   "pygments_lexer": "ipython3",
   "version": "3.8.5"
  }
 },
 "nbformat": 4,
 "nbformat_minor": 4
}
