{
 "cells": [
  {
   "cell_type": "code",
   "execution_count": 1,
   "metadata": {},
   "outputs": [],
   "source": [
    "from math import factorial\n",
    "import numpy as np"
   ]
  },
  {
   "cell_type": "code",
   "execution_count": 2,
   "metadata": {},
   "outputs": [],
   "source": [
    "def combinations(n, k):\n",
    "    return int(factorial(n) / (factorial(k) * factorial(n - k)))"
   ]
  },
  {
   "cell_type": "code",
   "execution_count": 3,
   "metadata": {},
   "outputs": [],
   "source": [
    "def bernull(n, k, p):\n",
    "    return int(factorial(n) / (factorial(k) * factorial(n - k)))*(p**k)*((1-p)**(n-k))"
   ]
  },
  {
   "cell_type": "code",
   "execution_count": 4,
   "metadata": {},
   "outputs": [],
   "source": [
    "def puas(n, k, p):\n",
    "    lambda_ = n * p\n",
    "    return (lambda_**k / factorial(k)) * np.exp(-lambda_)"
   ]
  },
  {
   "cell_type": "markdown",
   "metadata": {},
   "source": [
    "1. Вероятность того, что стрелок попадет в мишень, выстрелив один раз, равна 0.8. Стрелок выстрелил 100 раз. Найдите вероятность того, что стрелок попадет в цель ровно 85 раз."
   ]
  },
  {
   "cell_type": "markdown",
   "metadata": {},
   "source": [
    "Вероятность попадания расчитаем по формуле Бернулли: $$P_n(X=k)=C_n^k p^k q^{n-k}$$"
   ]
  },
  {
   "cell_type": "code",
   "execution_count": 5,
   "metadata": {},
   "outputs": [
    {
     "data": {
      "text/plain": [
       "0.048061793700746355"
      ]
     },
     "execution_count": 5,
     "metadata": {},
     "output_type": "execute_result"
    }
   ],
   "source": [
    "bernull(100, 85, 0.8)"
   ]
  },
  {
   "cell_type": "markdown",
   "metadata": {},
   "source": [
    "2. Вероятность того, что лампочка перегорит в течение первого дня эксплуатации, равна 0.0004. В жилом комплексе после ремонта в один день включили 5000 новых лампочек. Какова вероятность, что ни одна из них не перегорит в первый день? Какова вероятность, что перегорят ровно две?"
   ]
  },
  {
   "cell_type": "markdown",
   "metadata": {},
   "source": [
    "Расчет вероятности перегорания лампочек проведем по формуле Пуассона:$$P_m \\approx \\frac{\\lambda^m}{m!}e^{-\\lambda}$$"
   ]
  },
  {
   "cell_type": "markdown",
   "metadata": {},
   "source": [
    "**где** $λ = np$."
   ]
  },
  {
   "cell_type": "markdown",
   "metadata": {},
   "source": [
    "Вероятность, что ни одна из них не перегорит в первый день:"
   ]
  },
  {
   "cell_type": "code",
   "execution_count": 9,
   "metadata": {},
   "outputs": [
    {
     "data": {
      "text/plain": [
       "0.1353352832366127"
      ]
     },
     "execution_count": 9,
     "metadata": {},
     "output_type": "execute_result"
    }
   ],
   "source": [
    "puas(5000, 0, 0.0004)"
   ]
  },
  {
   "cell_type": "markdown",
   "metadata": {},
   "source": [
    "Вероятность, что перегорят ровно две:"
   ]
  },
  {
   "cell_type": "code",
   "execution_count": 10,
   "metadata": {},
   "outputs": [
    {
     "data": {
      "text/plain": [
       "0.2706705664732254"
      ]
     },
     "execution_count": 10,
     "metadata": {},
     "output_type": "execute_result"
    }
   ],
   "source": [
    "puas(5000, 2, 0.0004)"
   ]
  },
  {
   "cell_type": "markdown",
   "metadata": {},
   "source": [
    "3. Монету подбросили 144 раза. Какова вероятность, что орел выпадет ровно 70 раз?"
   ]
  },
  {
   "cell_type": "markdown",
   "metadata": {},
   "source": [
    "Вероятность выпадения находим по формуле:$$P=\\frac{C_n^k}{2^n}$$"
   ]
  },
  {
   "cell_type": "code",
   "execution_count": 11,
   "metadata": {},
   "outputs": [
    {
     "data": {
      "text/plain": [
       "0.06281178035144776"
      ]
     },
     "execution_count": 11,
     "metadata": {},
     "output_type": "execute_result"
    }
   ],
   "source": [
    "combinations(144, 70)/2**144"
   ]
  },
  {
   "cell_type": "markdown",
   "metadata": {},
   "source": [
    "4. В первом ящике находится 10 мячей, из которых 7 - белые. Во втором ящике - 11 мячей, из которых 9 белых. Из каждого ящика вытаскивают случайным образом по два мяча. Какова вероятность того, что все мячи белые? Какова вероятность того, что ровно два мяча белые? Какова вероятность того, что хотя бы один мяч белый?"
   ]
  },
  {
   "cell_type": "markdown",
   "metadata": {},
   "source": [
    "Вероятность вытаскивания 1 и 2 белых мячей из 1 ящика:$$P_б(11)=\\frac{7}{10}=0.7; P_б(12)=\\frac{6}{9}=0.667$$"
   ]
  },
  {
   "cell_type": "markdown",
   "metadata": {},
   "source": [
    "Вероятность вытаскивания 1 и 2 белых мячей из 2 ящика:$$P_б(21)=\\frac{9}{11}=0.818; P_б(22)=\\frac{8}{10}=0.8$$"
   ]
  },
  {
   "cell_type": "markdown",
   "metadata": {},
   "source": [
    "Вероятность вытаскивания 1 и 2 черных мячей из 1 ящика:$$P_ч(11)=\\frac{3}{10}=0.3; P_ч(12)=\\frac{2}{9}=0.222$$"
   ]
  },
  {
   "cell_type": "markdown",
   "metadata": {},
   "source": [
    "Вероятность вытаскивания 1 и 2 черных мячей из 2 ящика:$$P_ч(21)=\\frac{2}{11}=0.182; P_ч(22)=\\frac{1}{10}=0.1$$"
   ]
  },
  {
   "cell_type": "markdown",
   "metadata": {},
   "source": [
    "Общая вероятность вытаскивания всех белых мячей:$$P=P_б(11)*P_б(12)*P_б(21)*P_б(22)=0.7*0.667*0.818*0.8=0.306$$"
   ]
  },
  {
   "cell_type": "markdown",
   "metadata": {},
   "source": [
    "Вероятность, что только 2 мяча белых возможна из комбинаций что:\n",
    "1. из первого ящика достали 2 черных, а из 2 два белых\n",
    "2. из первого ящика достали 1 черный 1 белый и из второго анологично\n",
    "3. из первого ящика достали 2 белых, а из второго 2 черных.\n",
    "$$P=P_ч(11)*P_ч(12)*Р_б(21)*Р_б(22)+Р_ч(11)*Р_б(11)*Р_ч(21)*Р_б(21)+Р_б(11)*Р_б(12)*Р_ч(21)*Р_ч(22)=0.3*0.222*0.818*0.8+0.3*0.7*0.182*0.818+0.7*0.667*0.182*0.1=0.1452$$"
   ]
  },
  {
   "cell_type": "markdown",
   "metadata": {},
   "source": [
    "Вероятность, что хотя бы 1 мяч белый возможна из комбинаций:\n",
    "1. из 1-го 1 белый 1 черный, из 2-го 2 черных\n",
    "2. из 1-го 2 белых, из 2-го 2 черных\n",
    "3. из 1-го 2 белых, из 2-го 1 белый 1 черный\n",
    "4. из 1-го 2 черных, из 2-го 1 белый 1 черный\n",
    "5. из 1-го 2 черных, из 2-го 2 белых\n",
    "6. из 1-го 1 черный 1 белый, из 2-го 2 белых\n",
    "7. из обоих ящиков по 2 белых\n",
    "$$Р=P_б(11)*P_ч(11)*Р_ч(21)*Р_ч(22)+Р_б(11)*Р_б(12)*Р_ч(21)*Р_ч(22)+Р_б(11)*Р_б(12)*Р_б(21)*Р_ч(21)+Р_ч(11)*Р_ч(12)*Р_б(21)*Р_ч(21)+P_ч(11)*P_ч(12)*Р_б(21)*Р_б(22)+P_б(11)*P_ч(11)*Р_б(21)*Р_б(22)+P_б(11)*P_б(12)*Р_б(21)*Р_б(22)=0.003822+0.008496+0.038192+0.005448+0.043583+0.130945+0.305539=0.536$$"
   ]
  },
  {
   "cell_type": "code",
   "execution_count": 56,
   "metadata": {},
   "outputs": [],
   "source": [
    "p1=0.7*0.3*0.182*0.1"
   ]
  },
  {
   "cell_type": "code",
   "execution_count": 57,
   "metadata": {},
   "outputs": [],
   "source": [
    "p2=0.7*0.667*0.182*0.1"
   ]
  },
  {
   "cell_type": "code",
   "execution_count": 58,
   "metadata": {},
   "outputs": [],
   "source": [
    "p3=0.7*0.667*0.818*0.1"
   ]
  },
  {
   "cell_type": "code",
   "execution_count": 59,
   "metadata": {},
   "outputs": [],
   "source": [
    "p4=0.3*0.222*0.818*0.1"
   ]
  },
  {
   "cell_type": "code",
   "execution_count": 60,
   "metadata": {},
   "outputs": [],
   "source": [
    "p5=0.3*0.222*0.818*0.8"
   ]
  },
  {
   "cell_type": "code",
   "execution_count": 61,
   "metadata": {},
   "outputs": [],
   "source": [
    "p6=0.3*0.667*0.818*0.8"
   ]
  },
  {
   "cell_type": "code",
   "execution_count": 62,
   "metadata": {},
   "outputs": [],
   "source": [
    "p7=0.7*0.667*0.818*0.8"
   ]
  },
  {
   "cell_type": "code",
   "execution_count": 64,
   "metadata": {},
   "outputs": [
    {
     "name": "stdout",
     "output_type": "stream",
     "text": [
      "0.53602772\n"
     ]
    }
   ],
   "source": [
    "p=p1+p2+p3+p4+p5+p6+p7\n",
    "print(p)"
   ]
  },
  {
   "cell_type": "code",
   "execution_count": null,
   "metadata": {},
   "outputs": [],
   "source": []
  }
 ],
 "metadata": {
  "kernelspec": {
   "display_name": "Python 3",
   "language": "python",
   "name": "python3"
  },
  "language_info": {
   "codemirror_mode": {
    "name": "ipython",
    "version": 3
   },
   "file_extension": ".py",
   "mimetype": "text/x-python",
   "name": "python",
   "nbconvert_exporter": "python",
   "pygments_lexer": "ipython3",
   "version": "3.8.5"
  }
 },
 "nbformat": 4,
 "nbformat_minor": 4
}
